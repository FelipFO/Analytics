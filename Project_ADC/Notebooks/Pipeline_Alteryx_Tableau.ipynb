{
  "nbformat": 4,
  "nbformat_minor": 0,
  "metadata": {
    "colab": {
      "provenance": []
    },
    "kernelspec": {
      "name": "python3",
      "display_name": "Python 3"
    },
    "language_info": {
      "name": "python"
    }
  },
  "cells": [
    {
      "cell_type": "code",
      "execution_count": null,
      "metadata": {
        "id": "A1JLr79QokTY"
      },
      "outputs": [],
      "source": [
        "import pandas as pd\n",
        "import subprocess\n",
        "import os\n",
        "\n",
        "#We start from EDA\n",
        "def perform_eda(input_file, output_file):\n",
        "    # Reading data\n",
        "    df = pd.read_csv(input_file)\n",
        "\n",
        "    # Cleaning data\n",
        "    df.dropna(inplace=True)\n",
        "    df = df[df['column_of_interest'] > 0]\n",
        "\n",
        "    # Saving clean data\n",
        "    df.to_csv(output_file, index=False)\n",
        "    print(f\"EDA completed and data saved to {output_file}\")\n",
        "\n",
        "# Export data to Tableau and Alteryx\n",
        "def export_to_tools(cleaned_data_file, tableau_output, alteryx_output):\n",
        "    # Copy the file in the necessary locations\n",
        "    os.system(f\"cp {cleaned_data_file} {tableau_output}\")\n",
        "    os.system(f\"cp {cleaned_data_file} {alteryx_output}\")\n",
        "    print(f\"Data exported to {tableau_output} and {alteryx_output}\")\n",
        "\n",
        "# Pipeline Automatization\n",
        "def run_pipeline(input_file, cleaned_data_file, tableau_output, alteryx_output):\n",
        "    # Execute previous EDA steps\n",
        "    perform_eda(input_file, cleaned_data_file)\n",
        "\n",
        "    # Export data to Tableau and Alteryx\n",
        "    export_to_tools(cleaned_data_file, tableau_output, alteryx_output)\n",
        "\n",
        "# Define file routes\n",
        "input_file = \"path/to/your/input.csv\"\n",
        "cleaned_data_file = \"path/to/your/cleaned_data.csv\"\n",
        "tableau_output = \"path/to/your/tableau/cleaned_data.csv\"\n",
        "alteryx_output = \"path/to/your/alteryx/cleaned_data.csv\"\n",
        "\n",
        "# Execute pipeline\n",
        "run_pipeline(input_file, cleaned_data_file, tableau_output, alteryx_output)\n"
      ]
    }
  ]
}